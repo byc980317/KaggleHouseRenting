{
 "cells": [
  {
   "cell_type": "code",
   "execution_count": 1,
   "metadata": {},
   "outputs": [],
   "source": [
    "import numpy as np\n",
    "import pandas as pd\n",
    "import sys"
   ]
  },
  {
   "cell_type": "code",
   "execution_count": 3,
   "metadata": {},
   "outputs": [],
   "source": [
    "# def cos_sim(v1,v2):\n",
    "#     return np.dot(v1,v2)/(np.linalg.norm(v1)*np.linalg.norm(v2))\n",
    "\n",
    "def func(inputs,similarity='cos'):\n",
    "    length = input.shape[0]\n",
    "    out = np.zeros((length,length))\n",
    "    norm = np.sqrt(np.sum(inputs**2,axis=1)) # 2-norm of inputs\n",
    "    out = np.dot(inputs,inputs.T) / np.dot(norm,norm.T)\n",
    "    return out\n",
    "\n",
    "def get_rank_k(k):\n",
    "    return k\n",
    "\n",
    "def one_hot(inputs,columns):\n",
    "    out = pd.get_dummies(inputs,columns=columns)\n",
    "    data = inputs.drop(columns=columns,axis=1)\n",
    "    return pd.concat([data,out])\n",
    "\n",
    "def pre_processing(inputs):\n",
    "    data = inputs.dropna(how='any',axis=0)\n",
    "    return data"
   ]
  },
  {
   "cell_type": "code",
   "execution_count": null,
   "metadata": {},
   "outputs": [],
   "source": []
  }
 ],
 "metadata": {
  "kernelspec": {
   "display_name": "Python 3",
   "language": "python",
   "name": "python3"
  },
  "language_info": {
   "codemirror_mode": {
    "name": "ipython",
    "version": 3
   },
   "file_extension": ".py",
   "mimetype": "text/x-python",
   "name": "python",
   "nbconvert_exporter": "python",
   "pygments_lexer": "ipython3",
   "version": "3.7.1"
  }
 },
 "nbformat": 4,
 "nbformat_minor": 2
}
